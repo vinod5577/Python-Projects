{
 "cells": [
  {
   "cell_type": "code",
   "execution_count": 53,
   "id": "41d79af7",
   "metadata": {},
   "outputs": [],
   "source": [
    "import pandas as pd\n",
    "from datetime import timedelta"
   ]
  },
  {
   "cell_type": "code",
   "execution_count": 54,
   "id": "b8e65ef9",
   "metadata": {},
   "outputs": [],
   "source": [
    "df = pd.read_csv(\"C:\\\\Users\\\\HP\\\\Downloads\\\\archive (3)\\\\data.csv\")#reading the CSV file as DataFrame"
   ]
  },
  {
   "cell_type": "code",
   "execution_count": 55,
   "id": "f6abfba3",
   "metadata": {},
   "outputs": [
    {
     "name": "stdout",
     "output_type": "stream",
     "text": [
      "   Duration          Date  Pulse  Maxpulse  Calories\n",
      "0        60  '2020/12/01'    110       130     409.1\n",
      "1        60  '2020/12/02'    117       145     479.0\n",
      "2        60  '2020/12/03'    103       135     340.0\n",
      "3        45  '2020/12/04'    109       175     282.4\n",
      "4        45  '2020/12/05'    117       148     406.0\n"
     ]
    }
   ],
   "source": [
    "print(df.head(5))"
   ]
  },
  {
   "cell_type": "code",
   "execution_count": 56,
   "id": "384c80d8",
   "metadata": {},
   "outputs": [
    {
     "name": "stdout",
     "output_type": "stream",
     "text": [
      "    Duration          Date  Pulse  Maxpulse  Calories\n",
      "18        45  '2020/12/18'     90       112       NaN\n",
      "22        45           NaN    100       119     282.0\n",
      "28        60  '2020/12/28'    103       132       NaN\n"
     ]
    }
   ],
   "source": [
    "null_values = df[df.isnull().any(axis=1)]#Finding rows with NaN values.\n",
    "print(null_values)"
   ]
  },
  {
   "cell_type": "code",
   "execution_count": 57,
   "id": "b1e3aa40",
   "metadata": {},
   "outputs": [
    {
     "name": "stdout",
     "output_type": "stream",
     "text": [
      "int64\n"
     ]
    }
   ],
   "source": [
    "typ = df['Duration'].dtype#To check the type of a column\n",
    "print(typ)"
   ]
  },
  {
   "cell_type": "code",
   "execution_count": 58,
   "id": "ff27763c",
   "metadata": {},
   "outputs": [
    {
     "name": "stdout",
     "output_type": "stream",
     "text": [
      "sum of Calories : 9140.4\n",
      "Average of Calories: 304.68\n"
     ]
    }
   ],
   "source": [
    "total = df['Calories'].sum()#Finding sum of the column\n",
    "print('sum of Calories :',total)\n",
    "average = df['Calories'].mean()#Finding average value\n",
    "print('Average of Calories:',average)"
   ]
  },
  {
   "cell_type": "code",
   "execution_count": 59,
   "id": "448b8ee7",
   "metadata": {},
   "outputs": [
    {
     "name": "stdout",
     "output_type": "stream",
     "text": [
      "0    409.1\n",
      "1    479.0\n",
      "2    340.0\n",
      "3    282.4\n",
      "4    406.0\n",
      "Name: Calories, dtype: float64\n"
     ]
    }
   ],
   "source": [
    "df['Calories'].fillna(df['Calories'].mean(), inplace=True)# filling naN values in Calories column with mean value of Calories.\n",
    "print(df['Calories'].head())"
   ]
  },
  {
   "cell_type": "code",
   "execution_count": 60,
   "id": "becc08c5",
   "metadata": {},
   "outputs": [
    {
     "name": "stdout",
     "output_type": "stream",
     "text": [
      "    Duration       Date  Pulse  Maxpulse  Calories\n",
      "22        45        NaT    100       119    282.00\n",
      "23        60 2020-12-23    130       101    300.00\n",
      "24        45 2020-12-24    105       132    246.00\n",
      "25        60 2020-12-25    102       126    334.50\n",
      "26        60        NaT    100       120    250.00\n",
      "27        60 2020-12-27     92       118    241.00\n",
      "28        60 2020-12-28    103       132    304.68\n",
      "29        60 2020-12-29    100       132    280.00\n",
      "30        60 2020-12-30    102       129    380.30\n",
      "31        60 2020-12-31     92       115    243.00\n"
     ]
    }
   ],
   "source": [
    "df['Date']=pd.to_datetime(df['Date'],errors = 'coerce')\n",
    "print(df.tail(10))#this convert the date column to datetime values and make nat if any values are not in the format"
   ]
  },
  {
   "cell_type": "code",
   "execution_count": 61,
   "id": "44b4cc21",
   "metadata": {},
   "outputs": [
    {
     "name": "stdout",
     "output_type": "stream",
     "text": [
      "    Duration       Date  Pulse  Maxpulse  Calories\n",
      "22        45 2020-12-22    100       119    282.00\n",
      "23        60 2020-12-23    130       101    300.00\n",
      "24        45 2020-12-24    105       132    246.00\n",
      "25        60 2020-12-25    102       126    334.50\n",
      "26        60 2020-12-26    100       120    250.00\n",
      "27        60 2020-12-27     92       118    241.00\n",
      "28        60 2020-12-28    103       132    304.68\n",
      "29        60 2020-12-29    100       132    280.00\n",
      "30        60 2020-12-30    102       129    380.30\n",
      "31        60 2020-12-31     92       115    243.00\n"
     ]
    }
   ],
   "source": [
    "df['Date'].fillna(df['Date'].shift(1)+timedelta(days=1),inplace=True)#replacing empty values in date column by adding 1 day to previous day\n",
    "print(df.tail(10))"
   ]
  },
  {
   "cell_type": "code",
   "execution_count": 62,
   "id": "f937c880",
   "metadata": {},
   "outputs": [
    {
     "name": "stdout",
     "output_type": "stream",
     "text": [
      "   Duration       Date  Pulse  Maxpulse  Calories\n",
      "0        60 2020-12-01    110       130     409.1\n",
      "1        60 2020-12-02    117       145     479.0\n",
      "2        60 2020-12-03    103       135     340.0\n",
      "3        45 2020-12-04    109       175     282.4\n",
      "4        45 2020-12-05    117       148     406.0\n",
      "5        60 2020-12-06    102       127     300.0\n",
      "6        60 2020-12-07    110       136     374.0\n",
      "7        56 2020-12-08    104       134     253.3\n"
     ]
    }
   ],
   "source": [
    "outlier_threshold = 100\n",
    "average = int(df.loc[df['Duration'] < outlier_threshold, 'Duration'].mean())# Finding outliers and average by exempting outliers.\n",
    "df.loc[df['Duration'] >= outlier_threshold,'Duration'] = average       #Replacing outliers with average value\n",
    "print(df.head(8))"
   ]
  },
  {
   "cell_type": "code",
   "execution_count": null,
   "id": "c2f5f03a",
   "metadata": {},
   "outputs": [],
   "source": []
  }
 ],
 "metadata": {
  "kernelspec": {
   "display_name": "Python 3 (ipykernel)",
   "language": "python",
   "name": "python3"
  },
  "language_info": {
   "codemirror_mode": {
    "name": "ipython",
    "version": 3
   },
   "file_extension": ".py",
   "mimetype": "text/x-python",
   "name": "python",
   "nbconvert_exporter": "python",
   "pygments_lexer": "ipython3",
   "version": "3.11.5"
  }
 },
 "nbformat": 4,
 "nbformat_minor": 5
}
